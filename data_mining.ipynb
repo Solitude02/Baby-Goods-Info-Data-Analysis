{
 "cells": [
  {
   "cell_type": "markdown",
   "id": "2e8b1f33",
   "metadata": {},
   "source": [
    "## 导包"
   ]
  },
  {
   "cell_type": "code",
   "execution_count": 74,
   "id": "e26a923a",
   "metadata": {},
   "outputs": [],
   "source": [
    "import warnings\n",
    "warnings.filterwarnings(\"ignore\") #忽略警告信息\n",
    "\n",
    "# 数据处理清洗包\n",
    "import pandas as pd\n",
    "import math\n",
    "import numpy as np\n",
    "import random as rnd\n",
    "\n",
    "\n",
    "# 可视化包\n",
    "import seaborn as sns\n",
    "import matplotlib.pyplot as plt\n",
    "from visual import plot_hyperplane\n",
    "%matplotlib inline\n",
    "\n",
    "# 机器学习算法相关包\n",
    "from sklearn import svm\n",
    "from sklearn.svm import SVC, LinearSVC\n",
    "from sklearn.tree import DecisionTreeClassifier\n",
    "from sklearn.model_selection import cross_val_score\n",
    "from sklearn.ensemble import AdaBoostClassifier\n",
    "from sklearn.ensemble import RandomForestClassifier"
   ]
  },
  {
   "cell_type": "markdown",
   "id": "14775b02",
   "metadata": {},
   "source": [
    "## 读取数据，划分训练集、测试集"
   ]
  },
  {
   "cell_type": "code",
   "execution_count": 16,
   "id": "4cdbe3db",
   "metadata": {},
   "outputs": [],
   "source": [
    "combine= pd.read_csv(r'C:\\Users\\33106\\Desktop\\Data_mining_project\\data_origin.csv')"
   ]
  },
  {
   "cell_type": "code",
   "execution_count": 17,
   "id": "5c40fecc",
   "metadata": {},
   "outputs": [],
   "source": [
    "train_df = combine.iloc[0:929]"
   ]
  },
  {
   "cell_type": "code",
   "execution_count": 18,
   "id": "bf5d8e0d",
   "metadata": {},
   "outputs": [
    {
     "data": {
      "text/html": [
       "<div>\n",
       "<style scoped>\n",
       "    .dataframe tbody tr th:only-of-type {\n",
       "        vertical-align: middle;\n",
       "    }\n",
       "\n",
       "    .dataframe tbody tr th {\n",
       "        vertical-align: top;\n",
       "    }\n",
       "\n",
       "    .dataframe thead th {\n",
       "        text-align: right;\n",
       "    }\n",
       "</style>\n",
       "<table border=\"1\" class=\"dataframe\">\n",
       "  <thead>\n",
       "    <tr style=\"text-align: right;\">\n",
       "      <th></th>\n",
       "      <th>Column1</th>\n",
       "      <th>user_id</th>\n",
       "      <th>auction_id</th>\n",
       "      <th>cat_id</th>\n",
       "      <th>cat1</th>\n",
       "      <th>buy_mount</th>\n",
       "      <th>day</th>\n",
       "      <th>birthday</th>\n",
       "      <th>gender</th>\n",
       "      <th>age</th>\n",
       "    </tr>\n",
       "  </thead>\n",
       "  <tbody>\n",
       "    <tr>\n",
       "      <th>0</th>\n",
       "      <td>0</td>\n",
       "      <td>513441334</td>\n",
       "      <td>19909384116</td>\n",
       "      <td>50010557</td>\n",
       "      <td>1</td>\n",
       "      <td>1</td>\n",
       "      <td>2012/12/12</td>\n",
       "      <td>2011/1/5</td>\n",
       "      <td>0</td>\n",
       "      <td>1.94</td>\n",
       "    </tr>\n",
       "    <tr>\n",
       "      <th>1</th>\n",
       "      <td>1</td>\n",
       "      <td>377550424</td>\n",
       "      <td>15771663914</td>\n",
       "      <td>50015841</td>\n",
       "      <td>2</td>\n",
       "      <td>1</td>\n",
       "      <td>2012/11/23</td>\n",
       "      <td>2011/6/20</td>\n",
       "      <td>0</td>\n",
       "      <td>1.43</td>\n",
       "    </tr>\n",
       "    <tr>\n",
       "      <th>2</th>\n",
       "      <td>2</td>\n",
       "      <td>47342027</td>\n",
       "      <td>14066344263</td>\n",
       "      <td>50013636</td>\n",
       "      <td>1</td>\n",
       "      <td>1</td>\n",
       "      <td>2012/9/11</td>\n",
       "      <td>2010/10/8</td>\n",
       "      <td>0</td>\n",
       "      <td>1.93</td>\n",
       "    </tr>\n",
       "    <tr>\n",
       "      <th>3</th>\n",
       "      <td>3</td>\n",
       "      <td>119784861</td>\n",
       "      <td>20796936076</td>\n",
       "      <td>50140021</td>\n",
       "      <td>1</td>\n",
       "      <td>1</td>\n",
       "      <td>2012/11/29</td>\n",
       "      <td>2012/3/27</td>\n",
       "      <td>1</td>\n",
       "      <td>0.68</td>\n",
       "    </tr>\n",
       "    <tr>\n",
       "      <th>4</th>\n",
       "      <td>4</td>\n",
       "      <td>159129426</td>\n",
       "      <td>15198386301</td>\n",
       "      <td>50013711</td>\n",
       "      <td>1</td>\n",
       "      <td>2</td>\n",
       "      <td>2012/8/8</td>\n",
       "      <td>2010/8/25</td>\n",
       "      <td>1</td>\n",
       "      <td>1.96</td>\n",
       "    </tr>\n",
       "    <tr>\n",
       "      <th>...</th>\n",
       "      <td>...</td>\n",
       "      <td>...</td>\n",
       "      <td>...</td>\n",
       "      <td>...</td>\n",
       "      <td>...</td>\n",
       "      <td>...</td>\n",
       "      <td>...</td>\n",
       "      <td>...</td>\n",
       "      <td>...</td>\n",
       "      <td>...</td>\n",
       "    </tr>\n",
       "    <tr>\n",
       "      <th>645</th>\n",
       "      <td>666</td>\n",
       "      <td>829213583</td>\n",
       "      <td>20326213051</td>\n",
       "      <td>50013636</td>\n",
       "      <td>1</td>\n",
       "      <td>1</td>\n",
       "      <td>2014/12/22</td>\n",
       "      <td>2013/11/10</td>\n",
       "      <td>1</td>\n",
       "      <td>1.12</td>\n",
       "    </tr>\n",
       "    <tr>\n",
       "      <th>646</th>\n",
       "      <td>667</td>\n",
       "      <td>58199199</td>\n",
       "      <td>16436704905</td>\n",
       "      <td>211122</td>\n",
       "      <td>6</td>\n",
       "      <td>4</td>\n",
       "      <td>2012/10/16</td>\n",
       "      <td>2011/7/2</td>\n",
       "      <td>1</td>\n",
       "      <td>1.29</td>\n",
       "    </tr>\n",
       "    <tr>\n",
       "      <th>647</th>\n",
       "      <td>668</td>\n",
       "      <td>24829944</td>\n",
       "      <td>15098657498</td>\n",
       "      <td>50011819</td>\n",
       "      <td>4</td>\n",
       "      <td>2</td>\n",
       "      <td>2014/9/20</td>\n",
       "      <td>2014/8/26</td>\n",
       "      <td>0</td>\n",
       "      <td>0.07</td>\n",
       "    </tr>\n",
       "    <tr>\n",
       "      <th>648</th>\n",
       "      <td>669</td>\n",
       "      <td>167910527</td>\n",
       "      <td>16440368756</td>\n",
       "      <td>50010555</td>\n",
       "      <td>1</td>\n",
       "      <td>1</td>\n",
       "      <td>2013/3/12</td>\n",
       "      <td>2012/11/21</td>\n",
       "      <td>1</td>\n",
       "      <td>0.30</td>\n",
       "    </tr>\n",
       "    <tr>\n",
       "      <th>649</th>\n",
       "      <td>670</td>\n",
       "      <td>809862801</td>\n",
       "      <td>36251688391</td>\n",
       "      <td>50012475</td>\n",
       "      <td>2</td>\n",
       "      <td>1</td>\n",
       "      <td>2014/2/16</td>\n",
       "      <td>2014/1/21</td>\n",
       "      <td>0</td>\n",
       "      <td>0.07</td>\n",
       "    </tr>\n",
       "  </tbody>\n",
       "</table>\n",
       "<p>650 rows × 10 columns</p>\n",
       "</div>"
      ],
      "text/plain": [
       "     Column1    user_id   auction_id    cat_id  cat1  buy_mount         day  \\\n",
       "0          0  513441334  19909384116  50010557     1          1  2012/12/12   \n",
       "1          1  377550424  15771663914  50015841     2          1  2012/11/23   \n",
       "2          2   47342027  14066344263  50013636     1          1   2012/9/11   \n",
       "3          3  119784861  20796936076  50140021     1          1  2012/11/29   \n",
       "4          4  159129426  15198386301  50013711     1          2    2012/8/8   \n",
       "..       ...        ...          ...       ...   ...        ...         ...   \n",
       "645      666  829213583  20326213051  50013636     1          1  2014/12/22   \n",
       "646      667   58199199  16436704905    211122     6          4  2012/10/16   \n",
       "647      668   24829944  15098657498  50011819     4          2   2014/9/20   \n",
       "648      669  167910527  16440368756  50010555     1          1   2013/3/12   \n",
       "649      670  809862801  36251688391  50012475     2          1   2014/2/16   \n",
       "\n",
       "       birthday  gender   age  \n",
       "0      2011/1/5       0  1.94  \n",
       "1     2011/6/20       0  1.43  \n",
       "2     2010/10/8       0  1.93  \n",
       "3     2012/3/27       1  0.68  \n",
       "4     2010/8/25       1  1.96  \n",
       "..          ...     ...   ...  \n",
       "645  2013/11/10       1  1.12  \n",
       "646    2011/7/2       1  1.29  \n",
       "647   2014/8/26       0  0.07  \n",
       "648  2012/11/21       1  0.30  \n",
       "649   2014/1/21       0  0.07  \n",
       "\n",
       "[650 rows x 10 columns]"
      ]
     },
     "execution_count": 18,
     "metadata": {},
     "output_type": "execute_result"
    }
   ],
   "source": [
    "train_df"
   ]
  },
  {
   "cell_type": "markdown",
   "id": "4d578541",
   "metadata": {},
   "source": [
    "## 描述性统计分析"
   ]
  },
  {
   "cell_type": "markdown",
   "id": "37eef50e",
   "metadata": {},
   "source": [
    "获取所有列名"
   ]
  },
  {
   "cell_type": "code",
   "execution_count": 19,
   "id": "353548e9",
   "metadata": {},
   "outputs": [
    {
     "name": "stdout",
     "output_type": "stream",
     "text": [
      "['Column1' 'user_id' 'auction_id' 'cat_id' 'cat1' 'buy_mount' 'day'\n",
      " 'birthday' 'gender' 'age']\n"
     ]
    }
   ],
   "source": [
    "# 获取所有特征名\n",
    "print(train_df.columns.values)"
   ]
  },
  {
   "cell_type": "markdown",
   "id": "bad3bb35",
   "metadata": {},
   "source": [
    "各列无缺省值，数据完整性良好"
   ]
  },
  {
   "cell_type": "code",
   "execution_count": 20,
   "id": "e0f7870c",
   "metadata": {},
   "outputs": [
    {
     "name": "stdout",
     "output_type": "stream",
     "text": [
      "Column1       0\n",
      "user_id       0\n",
      "auction_id    0\n",
      "cat_id        0\n",
      "cat1          0\n",
      "buy_mount     0\n",
      "day           0\n",
      "birthday      0\n",
      "gender        0\n",
      "age           0\n",
      "dtype: int64\n",
      "________________________________________\n"
     ]
    },
    {
     "data": {
      "text/plain": [
       "Column1       0\n",
       "user_id       0\n",
       "auction_id    0\n",
       "cat_id        0\n",
       "cat1          0\n",
       "buy_mount     0\n",
       "day           0\n",
       "birthday      0\n",
       "gender        0\n",
       "age           0\n",
       "dtype: int64"
      ]
     },
     "execution_count": 20,
     "metadata": {},
     "output_type": "execute_result"
    }
   ],
   "source": [
    "# 数据无缺省值，数据完整性良好\n",
    "print(train_df.isnull().sum())\n",
    "print('_'*40)\n",
    "test_df.isnull().sum()"
   ]
  },
  {
   "cell_type": "markdown",
   "id": "9002157b",
   "metadata": {},
   "source": [
    "测试集和训练集中均有8个数值类型，2个字符串类型"
   ]
  },
  {
   "cell_type": "code",
   "execution_count": 21,
   "id": "b451568d",
   "metadata": {},
   "outputs": [
    {
     "name": "stdout",
     "output_type": "stream",
     "text": [
      "<class 'pandas.core.frame.DataFrame'>\n",
      "RangeIndex: 650 entries, 0 to 649\n",
      "Data columns (total 10 columns):\n",
      " #   Column      Non-Null Count  Dtype  \n",
      "---  ------      --------------  -----  \n",
      " 0   Column1     650 non-null    int64  \n",
      " 1   user_id     650 non-null    int64  \n",
      " 2   auction_id  650 non-null    int64  \n",
      " 3   cat_id      650 non-null    int64  \n",
      " 4   cat1        650 non-null    int64  \n",
      " 5   buy_mount   650 non-null    int64  \n",
      " 6   day         650 non-null    object \n",
      " 7   birthday    650 non-null    object \n",
      " 8   gender      650 non-null    int64  \n",
      " 9   age         650 non-null    float64\n",
      "dtypes: float64(1), int64(7), object(2)\n",
      "memory usage: 50.9+ KB\n",
      "________________________________________\n",
      "<class 'pandas.core.frame.DataFrame'>\n",
      "RangeIndex: 278 entries, 651 to 928\n",
      "Data columns (total 10 columns):\n",
      " #   Column      Non-Null Count  Dtype  \n",
      "---  ------      --------------  -----  \n",
      " 0   Column1     278 non-null    int64  \n",
      " 1   user_id     278 non-null    int64  \n",
      " 2   auction_id  278 non-null    int64  \n",
      " 3   cat_id      278 non-null    int64  \n",
      " 4   cat1        278 non-null    int64  \n",
      " 5   buy_mount   278 non-null    int64  \n",
      " 6   day         278 non-null    object \n",
      " 7   birthday    278 non-null    object \n",
      " 8   gender      278 non-null    int64  \n",
      " 9   age         278 non-null    float64\n",
      "dtypes: float64(1), int64(7), object(2)\n",
      "memory usage: 21.8+ KB\n"
     ]
    }
   ],
   "source": [
    "train_df.info()\n",
    "print('_'*40)\n",
    "test_df.info()"
   ]
  },
  {
   "cell_type": "markdown",
   "id": "ee075823",
   "metadata": {},
   "source": [
    "**样本中分类特征的分布**\n",
    "- 性别变量有两个可能的值，女婴幼儿占 53%（top=女，freq=348/650）;\n",
    "- 从年龄上看，调查对象的年龄大都在0 - 4岁间。部分样本数据存在负值，可能是在孕妇怀孕阶段购买的产品，之后的数据清洗中将会把这部分数据统一调整为0；存在着最大值为11.8，可能将其考虑为离群值，在数据清洗阶段将其剔除。\n",
    "- 购买数量大多在1 - 2个区间内，存在着30的最大值，可能会将其剔除\n",
    "- Column1、user_id、auction_id在样本中为唯一值，与样本将要预测的变量（gender、age）无关，在数据清洗阶段可能会将其剔除。"
   ]
  },
  {
   "cell_type": "code",
   "execution_count": 22,
   "id": "87ff3804",
   "metadata": {},
   "outputs": [
    {
     "data": {
      "text/html": [
       "<div>\n",
       "<style scoped>\n",
       "    .dataframe tbody tr th:only-of-type {\n",
       "        vertical-align: middle;\n",
       "    }\n",
       "\n",
       "    .dataframe tbody tr th {\n",
       "        vertical-align: top;\n",
       "    }\n",
       "\n",
       "    .dataframe thead th {\n",
       "        text-align: right;\n",
       "    }\n",
       "</style>\n",
       "<table border=\"1\" class=\"dataframe\">\n",
       "  <thead>\n",
       "    <tr style=\"text-align: right;\">\n",
       "      <th></th>\n",
       "      <th>Column1</th>\n",
       "      <th>user_id</th>\n",
       "      <th>auction_id</th>\n",
       "      <th>cat_id</th>\n",
       "      <th>cat1</th>\n",
       "      <th>buy_mount</th>\n",
       "      <th>gender</th>\n",
       "      <th>age</th>\n",
       "    </tr>\n",
       "  </thead>\n",
       "  <tbody>\n",
       "    <tr>\n",
       "      <th>count</th>\n",
       "      <td>650.00</td>\n",
       "      <td>6.500000e+02</td>\n",
       "      <td>6.500000e+02</td>\n",
       "      <td>6.500000e+02</td>\n",
       "      <td>650.00</td>\n",
       "      <td>650.00</td>\n",
       "      <td>650.00</td>\n",
       "      <td>650.00</td>\n",
       "    </tr>\n",
       "    <tr>\n",
       "      <th>mean</th>\n",
       "      <td>335.35</td>\n",
       "      <td>4.531264e+08</td>\n",
       "      <td>2.426991e+10</td>\n",
       "      <td>5.388015e+07</td>\n",
       "      <td>2.30</td>\n",
       "      <td>1.38</td>\n",
       "      <td>0.53</td>\n",
       "      <td>1.69</td>\n",
       "    </tr>\n",
       "    <tr>\n",
       "      <th>std</th>\n",
       "      <td>193.80</td>\n",
       "      <td>4.968262e+08</td>\n",
       "      <td>1.124221e+10</td>\n",
       "      <td>2.048415e+07</td>\n",
       "      <td>1.47</td>\n",
       "      <td>1.87</td>\n",
       "      <td>0.50</td>\n",
       "      <td>2.11</td>\n",
       "    </tr>\n",
       "    <tr>\n",
       "      <th>min</th>\n",
       "      <td>0.00</td>\n",
       "      <td>2.757000e+03</td>\n",
       "      <td>7.405612e+07</td>\n",
       "      <td>2.111220e+05</td>\n",
       "      <td>1.00</td>\n",
       "      <td>1.00</td>\n",
       "      <td>0.00</td>\n",
       "      <td>-1.00</td>\n",
       "    </tr>\n",
       "    <tr>\n",
       "      <th>45%</th>\n",
       "      <td>304.05</td>\n",
       "      <td>1.963321e+08</td>\n",
       "      <td>1.923268e+10</td>\n",
       "      <td>5.001245e+07</td>\n",
       "      <td>2.00</td>\n",
       "      <td>1.00</td>\n",
       "      <td>0.00</td>\n",
       "      <td>1.04</td>\n",
       "    </tr>\n",
       "    <tr>\n",
       "      <th>50%</th>\n",
       "      <td>336.50</td>\n",
       "      <td>2.769950e+08</td>\n",
       "      <td>2.011764e+10</td>\n",
       "      <td>5.001256e+07</td>\n",
       "      <td>2.00</td>\n",
       "      <td>1.00</td>\n",
       "      <td>1.00</td>\n",
       "      <td>1.19</td>\n",
       "    </tr>\n",
       "    <tr>\n",
       "      <th>60%</th>\n",
       "      <td>404.40</td>\n",
       "      <td>4.065938e+08</td>\n",
       "      <td>2.412212e+10</td>\n",
       "      <td>5.001364e+07</td>\n",
       "      <td>2.00</td>\n",
       "      <td>1.00</td>\n",
       "      <td>1.00</td>\n",
       "      <td>1.80</td>\n",
       "    </tr>\n",
       "    <tr>\n",
       "      <th>70%</th>\n",
       "      <td>469.30</td>\n",
       "      <td>6.591684e+08</td>\n",
       "      <td>3.560635e+10</td>\n",
       "      <td>5.001444e+07</td>\n",
       "      <td>3.00</td>\n",
       "      <td>1.00</td>\n",
       "      <td>1.00</td>\n",
       "      <td>2.40</td>\n",
       "    </tr>\n",
       "    <tr>\n",
       "      <th>75%</th>\n",
       "      <td>502.75</td>\n",
       "      <td>7.164043e+08</td>\n",
       "      <td>3.669493e+10</td>\n",
       "      <td>5.001671e+07</td>\n",
       "      <td>3.00</td>\n",
       "      <td>1.00</td>\n",
       "      <td>1.00</td>\n",
       "      <td>2.72</td>\n",
       "    </tr>\n",
       "    <tr>\n",
       "      <th>80%</th>\n",
       "      <td>536.20</td>\n",
       "      <td>7.684868e+08</td>\n",
       "      <td>3.755219e+10</td>\n",
       "      <td>5.001883e+07</td>\n",
       "      <td>3.00</td>\n",
       "      <td>1.00</td>\n",
       "      <td>1.00</td>\n",
       "      <td>3.14</td>\n",
       "    </tr>\n",
       "    <tr>\n",
       "      <th>90%</th>\n",
       "      <td>601.10</td>\n",
       "      <td>1.040472e+09</td>\n",
       "      <td>4.013649e+10</td>\n",
       "      <td>5.002646e+07</td>\n",
       "      <td>5.00</td>\n",
       "      <td>2.00</td>\n",
       "      <td>1.00</td>\n",
       "      <td>4.50</td>\n",
       "    </tr>\n",
       "    <tr>\n",
       "      <th>99%</th>\n",
       "      <td>662.51</td>\n",
       "      <td>2.109740e+09</td>\n",
       "      <td>4.315471e+10</td>\n",
       "      <td>1.214720e+08</td>\n",
       "      <td>6.00</td>\n",
       "      <td>10.00</td>\n",
       "      <td>1.00</td>\n",
       "      <td>8.84</td>\n",
       "    </tr>\n",
       "    <tr>\n",
       "      <th>max</th>\n",
       "      <td>670.00</td>\n",
       "      <td>2.298687e+09</td>\n",
       "      <td>4.367403e+10</td>\n",
       "      <td>1.224740e+08</td>\n",
       "      <td>6.00</td>\n",
       "      <td>30.00</td>\n",
       "      <td>1.00</td>\n",
       "      <td>11.80</td>\n",
       "    </tr>\n",
       "  </tbody>\n",
       "</table>\n",
       "</div>"
      ],
      "text/plain": [
       "       Column1       user_id    auction_id        cat_id    cat1  buy_mount  \\\n",
       "count   650.00  6.500000e+02  6.500000e+02  6.500000e+02  650.00     650.00   \n",
       "mean    335.35  4.531264e+08  2.426991e+10  5.388015e+07    2.30       1.38   \n",
       "std     193.80  4.968262e+08  1.124221e+10  2.048415e+07    1.47       1.87   \n",
       "min       0.00  2.757000e+03  7.405612e+07  2.111220e+05    1.00       1.00   \n",
       "45%     304.05  1.963321e+08  1.923268e+10  5.001245e+07    2.00       1.00   \n",
       "50%     336.50  2.769950e+08  2.011764e+10  5.001256e+07    2.00       1.00   \n",
       "60%     404.40  4.065938e+08  2.412212e+10  5.001364e+07    2.00       1.00   \n",
       "70%     469.30  6.591684e+08  3.560635e+10  5.001444e+07    3.00       1.00   \n",
       "75%     502.75  7.164043e+08  3.669493e+10  5.001671e+07    3.00       1.00   \n",
       "80%     536.20  7.684868e+08  3.755219e+10  5.001883e+07    3.00       1.00   \n",
       "90%     601.10  1.040472e+09  4.013649e+10  5.002646e+07    5.00       2.00   \n",
       "99%     662.51  2.109740e+09  4.315471e+10  1.214720e+08    6.00      10.00   \n",
       "max     670.00  2.298687e+09  4.367403e+10  1.224740e+08    6.00      30.00   \n",
       "\n",
       "       gender     age  \n",
       "count  650.00  650.00  \n",
       "mean     0.53    1.69  \n",
       "std      0.50    2.11  \n",
       "min      0.00   -1.00  \n",
       "45%      0.00    1.04  \n",
       "50%      1.00    1.19  \n",
       "60%      1.00    1.80  \n",
       "70%      1.00    2.40  \n",
       "75%      1.00    2.72  \n",
       "80%      1.00    3.14  \n",
       "90%      1.00    4.50  \n",
       "99%      1.00    8.84  \n",
       "max      1.00   11.80  "
      ]
     },
     "execution_count": 22,
     "metadata": {},
     "output_type": "execute_result"
    }
   ],
   "source": [
    "round(train_df.describe(percentiles=[.45,.5, .6, .7, .75, .8, .9, .99]),2)"
   ]
  },
  {
   "cell_type": "markdown",
   "id": "1d7c6c33",
   "metadata": {},
   "source": [
    "## 提出假设及数据特征分析\n",
    "- 婴幼儿性别与所购买的商品根类别特征相关\n",
    "- 婴幼儿性别与所购买的商品根类别特征相关"
   ]
  },
  {
   "cell_type": "markdown",
   "id": "d2597450",
   "metadata": {},
   "source": [
    "**商品根类别与年龄数据分布特征**"
   ]
  },
  {
   "cell_type": "code",
   "execution_count": 23,
   "id": "5620aea4",
   "metadata": {},
   "outputs": [
    {
     "data": {
      "text/html": [
       "<div>\n",
       "<style scoped>\n",
       "    .dataframe tbody tr th:only-of-type {\n",
       "        vertical-align: middle;\n",
       "    }\n",
       "\n",
       "    .dataframe tbody tr th {\n",
       "        vertical-align: top;\n",
       "    }\n",
       "\n",
       "    .dataframe thead th {\n",
       "        text-align: right;\n",
       "    }\n",
       "</style>\n",
       "<table border=\"1\" class=\"dataframe\">\n",
       "  <thead>\n",
       "    <tr style=\"text-align: right;\">\n",
       "      <th></th>\n",
       "      <th>cat1</th>\n",
       "      <th>age</th>\n",
       "    </tr>\n",
       "  </thead>\n",
       "  <tbody>\n",
       "    <tr>\n",
       "      <th>4</th>\n",
       "      <td>5</td>\n",
       "      <td>2.571000</td>\n",
       "    </tr>\n",
       "    <tr>\n",
       "      <th>0</th>\n",
       "      <td>1</td>\n",
       "      <td>2.230500</td>\n",
       "    </tr>\n",
       "    <tr>\n",
       "      <th>1</th>\n",
       "      <td>2</td>\n",
       "      <td>1.968843</td>\n",
       "    </tr>\n",
       "    <tr>\n",
       "      <th>5</th>\n",
       "      <td>6</td>\n",
       "      <td>1.168966</td>\n",
       "    </tr>\n",
       "    <tr>\n",
       "      <th>2</th>\n",
       "      <td>3</td>\n",
       "      <td>0.984215</td>\n",
       "    </tr>\n",
       "    <tr>\n",
       "      <th>3</th>\n",
       "      <td>4</td>\n",
       "      <td>-0.329492</td>\n",
       "    </tr>\n",
       "  </tbody>\n",
       "</table>\n",
       "</div>"
      ],
      "text/plain": [
       "   cat1       age\n",
       "4     5  2.571000\n",
       "0     1  2.230500\n",
       "1     2  1.968843\n",
       "5     6  1.168966\n",
       "2     3  0.984215\n",
       "3     4 -0.329492"
      ]
     },
     "execution_count": 23,
     "metadata": {},
     "output_type": "execute_result"
    }
   ],
   "source": [
    "train_df[['cat1','age']].groupby(['cat1'], as_index=False).mean().sort_values(by='age', ascending=False)"
   ]
  },
  {
   "cell_type": "markdown",
   "id": "d5feaae2",
   "metadata": {},
   "source": [
    "**年龄、商品根类别与性别分布特征**"
   ]
  },
  {
   "cell_type": "code",
   "execution_count": 24,
   "id": "8bb10611",
   "metadata": {},
   "outputs": [
    {
     "data": {
      "text/html": [
       "<div>\n",
       "<style scoped>\n",
       "    .dataframe tbody tr th:only-of-type {\n",
       "        vertical-align: middle;\n",
       "    }\n",
       "\n",
       "    .dataframe tbody tr th {\n",
       "        vertical-align: top;\n",
       "    }\n",
       "\n",
       "    .dataframe thead th {\n",
       "        text-align: right;\n",
       "    }\n",
       "</style>\n",
       "<table border=\"1\" class=\"dataframe\">\n",
       "  <thead>\n",
       "    <tr style=\"text-align: right;\">\n",
       "      <th></th>\n",
       "      <th>cat1</th>\n",
       "      <th>age</th>\n",
       "      <th>gender</th>\n",
       "    </tr>\n",
       "  </thead>\n",
       "  <tbody>\n",
       "    <tr>\n",
       "      <th>169</th>\n",
       "      <td>1</td>\n",
       "      <td>4.26</td>\n",
       "      <td>1.0</td>\n",
       "    </tr>\n",
       "    <tr>\n",
       "      <th>145</th>\n",
       "      <td>1</td>\n",
       "      <td>3.32</td>\n",
       "      <td>1.0</td>\n",
       "    </tr>\n",
       "    <tr>\n",
       "      <th>210</th>\n",
       "      <td>1</td>\n",
       "      <td>9.44</td>\n",
       "      <td>1.0</td>\n",
       "    </tr>\n",
       "    <tr>\n",
       "      <th>209</th>\n",
       "      <td>1</td>\n",
       "      <td>8.89</td>\n",
       "      <td>1.0</td>\n",
       "    </tr>\n",
       "    <tr>\n",
       "      <th>208</th>\n",
       "      <td>1</td>\n",
       "      <td>8.78</td>\n",
       "      <td>1.0</td>\n",
       "    </tr>\n",
       "    <tr>\n",
       "      <th>...</th>\n",
       "      <td>...</td>\n",
       "      <td>...</td>\n",
       "      <td>...</td>\n",
       "    </tr>\n",
       "    <tr>\n",
       "      <th>242</th>\n",
       "      <td>2</td>\n",
       "      <td>0.98</td>\n",
       "      <td>0.0</td>\n",
       "    </tr>\n",
       "    <tr>\n",
       "      <th>244</th>\n",
       "      <td>2</td>\n",
       "      <td>1.04</td>\n",
       "      <td>0.0</td>\n",
       "    </tr>\n",
       "    <tr>\n",
       "      <th>247</th>\n",
       "      <td>2</td>\n",
       "      <td>1.12</td>\n",
       "      <td>0.0</td>\n",
       "    </tr>\n",
       "    <tr>\n",
       "      <th>249</th>\n",
       "      <td>2</td>\n",
       "      <td>1.15</td>\n",
       "      <td>0.0</td>\n",
       "    </tr>\n",
       "    <tr>\n",
       "      <th>477</th>\n",
       "      <td>6</td>\n",
       "      <td>4.11</td>\n",
       "      <td>0.0</td>\n",
       "    </tr>\n",
       "  </tbody>\n",
       "</table>\n",
       "<p>478 rows × 3 columns</p>\n",
       "</div>"
      ],
      "text/plain": [
       "     cat1   age  gender\n",
       "169     1  4.26     1.0\n",
       "145     1  3.32     1.0\n",
       "210     1  9.44     1.0\n",
       "209     1  8.89     1.0\n",
       "208     1  8.78     1.0\n",
       "..    ...   ...     ...\n",
       "242     2  0.98     0.0\n",
       "244     2  1.04     0.0\n",
       "247     2  1.12     0.0\n",
       "249     2  1.15     0.0\n",
       "477     6  4.11     0.0\n",
       "\n",
       "[478 rows x 3 columns]"
      ]
     },
     "execution_count": 24,
     "metadata": {},
     "output_type": "execute_result"
    }
   ],
   "source": [
    "train_df[['cat1','gender','age']].groupby(['cat1','age'], as_index=False).mean().sort_values(by='gender', ascending=False)"
   ]
  },
  {
   "cell_type": "code",
   "execution_count": 25,
   "id": "0fc56673",
   "metadata": {},
   "outputs": [
    {
     "data": {
      "text/plain": [
       "<seaborn.axisgrid.FacetGrid at 0x15845af6e20>"
      ]
     },
     "execution_count": 25,
     "metadata": {},
     "output_type": "execute_result"
    },
    {
     "data": {
      "image/png": "[encoded data removed]",
      "text/plain": [
       "<Figure size 691.5x432 with 6 Axes>"
      ]
     },
     "metadata": {
      "needs_background": "light"
     },
     "output_type": "display_data"
    }
   ],
   "source": [
    "grid = sns.FacetGrid(train_df, col='cat1', hue='gender',col_wrap = 3) \n",
    "grid.map(plt.hist,'age', alpha=0.5, bins=20)\n",
    "grid.add_legend()"
   ]
  },
  {
   "cell_type": "markdown",
   "id": "3738102f",
   "metadata": {},
   "source": [
    "## 数据清洗"
   ]
  },
  {
   "cell_type": "markdown",
   "id": "ace5d457",
   "metadata": {},
   "source": [
    "**删除无用特征Column1**"
   ]
  },
  {
   "cell_type": "code",
   "execution_count": 26,
   "id": "5d7a34b4",
   "metadata": {},
   "outputs": [
    {
     "data": {
      "text/plain": [
       "('After', (650, 4), (278, 4), (650, 4), (278, 4))"
      ]
     },
     "execution_count": 26,
     "metadata": {},
     "output_type": "execute_result"
    }
   ],
   "source": [
    "train_df = train_df.drop(['Column1', 'user_id','auction_id','cat_id','day','birthday'], axis=1)\n",
    "test_df = test_df.drop(['Column1', 'user_id','auction_id','cat_id','day','birthday'], axis=1)\n",
    "combine = [train_df, test_df]\n",
    "\"After\", train_df.shape, test_df.shape, combine[0].shape, combine[1].shape"
   ]
  },
  {
   "cell_type": "markdown",
   "id": "c142878b",
   "metadata": {},
   "source": [
    "**将这些年龄区间替换为序数**"
   ]
  },
  {
   "cell_type": "code",
   "execution_count": 27,
   "id": "8f02dc1c",
   "metadata": {},
   "outputs": [
    {
     "data": {
      "text/html": [
       "<div>\n",
       "<style scoped>\n",
       "    .dataframe tbody tr th:only-of-type {\n",
       "        vertical-align: middle;\n",
       "    }\n",
       "\n",
       "    .dataframe tbody tr th {\n",
       "        vertical-align: top;\n",
       "    }\n",
       "\n",
       "    .dataframe thead th {\n",
       "        text-align: right;\n",
       "    }\n",
       "</style>\n",
       "<table border=\"1\" class=\"dataframe\">\n",
       "  <thead>\n",
       "    <tr style=\"text-align: right;\">\n",
       "      <th></th>\n",
       "      <th>cat1</th>\n",
       "      <th>buy_mount</th>\n",
       "      <th>gender</th>\n",
       "      <th>age</th>\n",
       "    </tr>\n",
       "  </thead>\n",
       "  <tbody>\n",
       "    <tr>\n",
       "      <th>0</th>\n",
       "      <td>1</td>\n",
       "      <td>1</td>\n",
       "      <td>0</td>\n",
       "      <td>1.0</td>\n",
       "    </tr>\n",
       "    <tr>\n",
       "      <th>1</th>\n",
       "      <td>2</td>\n",
       "      <td>1</td>\n",
       "      <td>0</td>\n",
       "      <td>1.0</td>\n",
       "    </tr>\n",
       "    <tr>\n",
       "      <th>2</th>\n",
       "      <td>1</td>\n",
       "      <td>1</td>\n",
       "      <td>0</td>\n",
       "      <td>1.0</td>\n",
       "    </tr>\n",
       "    <tr>\n",
       "      <th>3</th>\n",
       "      <td>1</td>\n",
       "      <td>1</td>\n",
       "      <td>1</td>\n",
       "      <td>0.0</td>\n",
       "    </tr>\n",
       "    <tr>\n",
       "      <th>4</th>\n",
       "      <td>1</td>\n",
       "      <td>2</td>\n",
       "      <td>1</td>\n",
       "      <td>1.0</td>\n",
       "    </tr>\n",
       "  </tbody>\n",
       "</table>\n",
       "</div>"
      ],
      "text/plain": [
       "   cat1  buy_mount  gender  age\n",
       "0     1          1       0  1.0\n",
       "1     2          1       0  1.0\n",
       "2     1          1       0  1.0\n",
       "3     1          1       1  0.0\n",
       "4     1          2       1  1.0"
      ]
     },
     "execution_count": 27,
     "metadata": {},
     "output_type": "execute_result"
    }
   ],
   "source": [
    "# 将这些年龄区间替换为序数\n",
    "for dataset in combine:    \n",
    "    dataset.loc[ dataset['age'] <= 1, 'age'] = 0\n",
    "    dataset.loc[(dataset['age'] > 1) & (dataset['age'] <= 3), 'age'] = 1\n",
    "    dataset.loc[(dataset['age'] > 3) & (dataset['age'] <= 6), 'age'] = 2\n",
    "    dataset.loc[ dataset['age'] > 6, 'age'] = 3\n",
    "train_df.head()"
   ]
  },
  {
   "cell_type": "markdown",
   "id": "a0af6644",
   "metadata": {},
   "source": [
    "## 建立模型及预测"
   ]
  },
  {
   "cell_type": "code",
   "execution_count": 35,
   "id": "932ef166",
   "metadata": {},
   "outputs": [
    {
     "data": {
      "text/plain": [
       "((650, 3), (650,))"
      ]
     },
     "execution_count": 35,
     "metadata": {},
     "output_type": "execute_result"
    }
   ],
   "source": [
    "X_train = train_df.drop('gender',axis=1)\n",
    "Y_train = train_df[\"gender\"]#预测变量为gender\n",
    "X_train.shape, Y_train.shape"
   ]
  },
  {
   "cell_type": "markdown",
   "id": "cc8c79ac",
   "metadata": {},
   "source": [
    "**支持向量机**"
   ]
  },
  {
   "cell_type": "code",
   "execution_count": 76,
   "id": "22e54c7a",
   "metadata": {},
   "outputs": [
    {
     "name": "stdout",
     "output_type": "stream",
     "text": [
      "训练准确率： 0.5969230769230769\n"
     ]
    },
    {
     "data": {
      "text/plain": [
       "'5折交叉验证: 0.5170005136106831'"
      ]
     },
     "execution_count": 76,
     "metadata": {},
     "output_type": "execute_result"
    }
   ],
   "source": [
    "# 支持向量机\n",
    "model_SVC = svm.SVC(kernel = 'rbf',C= 5.0,gamma = 100)\n",
    "model_SVC.fit(X_train,Y_train)\n",
    "print(\"训练准确率：\",end = ' ')\n",
    "print(model_SVC.score(X_train,Y_train))\n",
    "scores = cross_val_score(model_SVC,X_train,Y_train,cv=11)\n",
    "'5折交叉验证: ' + str(scores.mean())"
   ]
  },
  {
   "cell_type": "markdown",
   "id": "14eecfa4",
   "metadata": {},
   "source": [
    "**决策树**"
   ]
  },
  {
   "cell_type": "code",
   "execution_count": 66,
   "id": "9af5ef32",
   "metadata": {},
   "outputs": [
    {
     "name": "stdout",
     "output_type": "stream",
     "text": [
      "训练准确率： 59.69\n"
     ]
    },
    {
     "data": {
      "text/plain": [
       "'11折交叉验证: 0.5108628659476118'"
      ]
     },
     "execution_count": 66,
     "metadata": {},
     "output_type": "execute_result"
    }
   ],
   "source": [
    "# 决策树\n",
    "decision_tree = DecisionTreeClassifier()\n",
    "decision_tree.fit(X_train, Y_train)\n",
    "acc_decision_tree = round(decision_tree.score(X_train, Y_train) * 100, 2)\n",
    "print(\"训练准确率：\",end = ' ')\n",
    "print(acc_decision_tree)\n",
    "scores = cross_val_score(decision_tree,X_train,Y_train,cv=11)\n",
    "'11折交叉验证: ' + str(scores.mean())"
   ]
  },
  {
   "cell_type": "markdown",
   "id": "18347ce0",
   "metadata": {},
   "source": [
    "**Ada Boosting**"
   ]
  },
  {
   "cell_type": "code",
   "execution_count": 68,
   "id": "00b5b028",
   "metadata": {},
   "outputs": [
    {
     "name": "stdout",
     "output_type": "stream",
     "text": [
      "训练准确率： 0.5584615384615385\n"
     ]
    },
    {
     "data": {
      "text/plain": [
       "'5折交叉验证: 0.5323831535695943'"
      ]
     },
     "execution_count": 68,
     "metadata": {},
     "output_type": "execute_result"
    }
   ],
   "source": [
    "# Ada Boosting\n",
    "model_ADA = AdaBoostClassifier(n_estimators=100,learning_rate=1)\n",
    "model_ADA.fit(X_train,Y_train)\n",
    "print(\"训练准确率：\",end = ' ')\n",
    "print(model_ADA.score(X_train, Y_train))\n",
    "scores = cross_val_score(model_ADA,X_train,Y_train,cv=11)\n",
    "'11折交叉验证: ' + str(scores.mean())"
   ]
  },
  {
   "cell_type": "markdown",
   "id": "ae3ccb59",
   "metadata": {},
   "source": [
    "**随机森林**"
   ]
  },
  {
   "cell_type": "code",
   "execution_count": 72,
   "id": "b1fb7ab1",
   "metadata": {},
   "outputs": [
    {
     "name": "stdout",
     "output_type": "stream",
     "text": [
      "训练准确率： 0.5969230769230769\n"
     ]
    },
    {
     "data": {
      "text/plain": [
       "'11折交叉验证: 0.5154853620955316'"
      ]
     },
     "execution_count": 72,
     "metadata": {},
     "output_type": "execute_result"
    }
   ],
   "source": [
    "model_random = RandomForestClassifier(n_estimators=100,criterion='gini')\n",
    "model_random.fit(X_train,Y_train)\n",
    "print(\"训练准确率：\",end = ' ')\n",
    "print(model_random.score(X_train, Y_train))\n",
    "scores = cross_val_score(model_random,X_train,Y_train,cv=11)\n",
    "'11折交叉验证: ' + str(scores.mean())"
   ]
  },
  {
   "cell_type": "markdown",
   "id": "444bd8d1",
   "metadata": {},
   "source": [
    "显然由于样本量较少原因训练效果并不是很理想，同时因为时间原因，原计划改为使用leave one out（留一法）进行交叉验证的想法也就此作罢。  \n",
    "种种因素导致模型欠拟合，但我们相信如果更换为源数据集应该会有较好的效果。"
   ]
  }
 ],
 "metadata": {
  "kernelspec": {
   "display_name": "Python 3 (ipykernel)",
   "language": "python",
   "name": "python3"
  },
  "language_info": {
   "codemirror_mode": {
    "name": "ipython",
    "version": 3
   },
   "file_extension": ".py",
   "mimetype": "text/x-python",
   "name": "python",
   "nbconvert_exporter": "python",
   "pygments_lexer": "ipython3",
   "version": "3.9.12"
  }
 },
 "nbformat": 4,
 "nbformat_minor": 5
}
